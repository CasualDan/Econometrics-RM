{
 "cells": [
  {
   "cell_type": "code",
   "execution_count": 89,
   "metadata": {
    "ExecuteTime": {
     "end_time": "2022-01-03T14:20:27.932863Z",
     "start_time": "2022-01-03T14:20:27.829Z"
    }
   },
   "outputs": [],
   "source": [
    "rm(list=ls())\n",
    "\n",
    "library(DoubleML)\n",
    "library(ggplot2)\n",
    "library(mlr3)\n",
    "library(xtable)\n",
    "library(mlr3learners)\n",
    "library(repr)\n",
    "library(data.table)\n",
    "library(\"readxl\")\n",
    "library(mvtnorm)\n",
    "suppressMessages(library(tidyverse))\n",
    "suppressMessages(library(parallel))\n",
    "suppressMessages(library(ggplot2))\n",
    "suppressMessages(library(doMC))\n",
    "lgr::get_logger(\"mlr3\")$set_threshold(\"warn\")\n",
    "\n",
    "numCores <- detectCores()\n",
    "registerDoMC(cores = numCores)"
   ]
  },
  {
   "cell_type": "code",
   "execution_count": 90,
   "metadata": {
    "ExecuteTime": {
     "end_time": "2022-01-03T14:20:36.151176Z",
     "start_time": "2022-01-03T14:20:28.361Z"
    }
   },
   "outputs": [],
   "source": [
    "# Importing control variables used for all dependant variables for Table 3 Column 3\n",
    "dataset <- read_excel(\"Table3.xlsx\")\n",
    "\n",
    "# ALl variables used in Blau et al. (2020) Table 3, Column (3) Regression\n",
    "data_unconfound <- data.table(dataset[,c(\"nchild\",\"lths\",\"scol\",\"cold\",\"sp_lths\",\"sp_scol\",\"sp_cold\",\n",
    "                                         \"genrace\",\"sp_genrace\",\"region\",\"year\",\"age\",\"age2\",\"age3\",\n",
    "                                         \"sp_age\",\"sp_age2\",\"sp_age3\",\"sp_imm\",\"yrsusa1\",\"yrsusa2\",\n",
    "                                         \"sp_yrsusa1\",\"sp_yrsusa2\",\"igenfert\",\"ligengdp\",\"igenlfp\",\n",
    "                                         \"igensr\",\"chld1\",\"girl_lfp\",\"girl_sr\")])\n",
    "\n",
    "# Addition of endogenous control for mother's age at first birth: \"birthage\"\n",
    "data_confound   <- data.table(dataset[,c(\"nchild\",\"lths\",\"scol\",\"cold\",\"sp_lths\",\"sp_scol\",\"sp_cold\",\n",
    "                                         \"genrace\",\"sp_genrace\",\"region\",\"year\",\"age\",\"age2\",\"age3\",\n",
    "                                         \"sp_age\",\"sp_age2\",\"sp_age3\",\"sp_imm\",\"yrsusa1\",\"yrsusa2\",\n",
    "                                         \"sp_yrsusa1\",\"sp_yrsusa2\",\"igenfert\",\"ligengdp\",\"igenlfp\",\n",
    "                                         \"igensr\",\"chld1\",\"girl_lfp\",\"girl_sr\",\"birthage\")])\n",
    "\n",
    "DML_data  <- double_ml_data_from_data_frame(data_unconfound, y_col = \"nchild\", d_cols = \"igenfert\")\n",
    "set.seed(12)"
   ]
  },
  {
   "cell_type": "code",
   "execution_count": 91,
   "metadata": {
    "ExecuteTime": {
     "end_time": "2022-01-03T14:22:53.555183Z",
     "start_time": "2022-01-03T14:20:31.337Z"
    },
    "scrolled": false
   },
   "outputs": [],
   "source": [
    "learner <- lrn(\"regr.ranger\", num.trees=100, min.node.size=2, max.depth=5)\n",
    "g_hat <- learner$clone()                                  # use RF to estimate nuisance g() and m()\n",
    "m_hat <- learner$clone()\n",
    "\n",
    "DML_PLR  <- DoubleMLPLR$new(DML_data, g_hat, m_hat)   # initialize the DML Partially Linear Model \n",
    "DML_PLR$fit()  \n",
    "params_rf_uc    <- cbind(DML_PLR$coef,DML_PLR$se)"
   ]
  },
  {
   "cell_type": "code",
   "execution_count": 92,
   "metadata": {
    "ExecuteTime": {
     "end_time": "2022-01-03T14:23:55.797278Z",
     "start_time": "2022-01-03T14:20:36.985Z"
    }
   },
   "outputs": [],
   "source": [
    "learner <- lrn(\"regr.cv_glmnet\", s=\"lambda.min\",standardize=TRUE)\n",
    "g_hat <- learner$clone()                                  # use RF to estimate nuisance g() and m()\n",
    "m_hat <- learner$clone()\n",
    "\n",
    "DML_PLR  <- DoubleMLPLR$new(DML_data, g_hat, m_hat)   # initialize the DML Partially Linear Model \n",
    "DML_PLR$fit()  \n",
    "params_lasso_uc    <- cbind(DML_PLR$coef,DML_PLR$se)"
   ]
  },
  {
   "cell_type": "code",
   "execution_count": 93,
   "metadata": {
    "ExecuteTime": {
     "end_time": "2022-01-03T14:24:23.468349Z",
     "start_time": "2022-01-03T14:20:46.251Z"
    }
   },
   "outputs": [],
   "source": [
    "learner <- lrn(\"regr.rpart\")\n",
    "g_hat <- learner$clone()\n",
    "m_hat <- learner$clone()\n",
    "DML_PLR  <- DoubleMLPLR$new(DML_data, g_hat, m_hat) \n",
    "DML_PLR$fit()\n",
    "params_rt_uc    <- cbind(DML_PLR$coef,DML_PLR$se)"
   ]
  },
  {
   "cell_type": "code",
   "execution_count": 94,
   "metadata": {
    "ExecuteTime": {
     "end_time": "2022-01-03T14:27:03.699929Z",
     "start_time": "2022-01-03T14:20:51.984Z"
    }
   },
   "outputs": [],
   "source": [
    "DML_data  <- double_ml_data_from_data_frame(data_confound, y_col = \"nchild\", d_cols = \"igenfert\")\n",
    "\n",
    "learner <- lrn(\"regr.ranger\", num.trees=100, min.node.size=2, max.depth=5)\n",
    "g_hat <- learner$clone()                                  # use RF to estimate nuisance g() and m()\n",
    "m_hat <- learner$clone()\n",
    "\n",
    "DML_PLR  <- DoubleMLPLR$new(DML_data, g_hat, m_hat)   # initialize the DML Partially Linear Model \n",
    "DML_PLR$fit()  \n",
    "params_rf_c <- cbind(DML_PLR$coef,DML_PLR$se)"
   ]
  },
  {
   "cell_type": "code",
   "execution_count": 95,
   "metadata": {
    "ExecuteTime": {
     "end_time": "2022-01-03T14:28:01.780282Z",
     "start_time": "2022-01-03T14:21:05.857Z"
    }
   },
   "outputs": [],
   "source": [
    "learner <- lrn(\"regr.cv_glmnet\", s=\"lambda.min\",standardize=TRUE)\n",
    "g_hat <- learner$clone()                                  # use RF to estimate nuisance g() and m()\n",
    "m_hat <- learner$clone()\n",
    "\n",
    "DML_PLR  <- DoubleMLPLR$new(DML_data, g_hat, m_hat)   # initialize the DML Partially Linear Model \n",
    "DML_PLR$fit()  \n",
    "params_lasso_c <- cbind(DML_PLR$coef,DML_PLR$se)"
   ]
  },
  {
   "cell_type": "code",
   "execution_count": 96,
   "metadata": {
    "ExecuteTime": {
     "end_time": "2022-01-03T14:28:26.921821Z",
     "start_time": "2022-01-03T14:21:31.065Z"
    }
   },
   "outputs": [],
   "source": [
    "learner <- lrn(\"regr.rpart\")\n",
    "g_hat <- learner$clone()\n",
    "m_hat <- learner$clone()\n",
    "DML_PLR  <- DoubleMLPLR$new(DML_data, g_hat, m_hat) \n",
    "DML_PLR$fit()\n",
    "params_rt_c    <- cbind(DML_PLR$coef,DML_PLR$se)"
   ]
  },
  {
   "cell_type": "code",
   "execution_count": 97,
   "metadata": {
    "ExecuteTime": {
     "end_time": "2022-01-03T14:28:27.080940Z",
     "start_time": "2022-01-03T14:26:10.833Z"
    }
   },
   "outputs": [
    {
     "data": {
      "text/html": [
       "<table class=\"dataframe\">\n",
       "<caption>A xtable: 2 × 8</caption>\n",
       "<thead>\n",
       "\t<tr><th></th><th scope=col>Benchmark</th><th scope=col> </th><th scope=col>Random Forest</th><th scope=col> </th><th scope=col>LASSO</th><th scope=col> </th><th scope=col>Regression Tree</th><th scope=col> </th></tr>\n",
       "\t<tr><th></th><th scope=col>&lt;chr&gt;</th><th scope=col>&lt;chr&gt;</th><th scope=col>&lt;chr&gt;</th><th scope=col>&lt;chr&gt;</th><th scope=col>&lt;chr&gt;</th><th scope=col>&lt;chr&gt;</th><th scope=col>&lt;chr&gt;</th><th scope=col>&lt;chr&gt;</th></tr>\n",
       "</thead>\n",
       "<tbody>\n",
       "\t<tr><th scope=row>Total Fertility</th><td>0.101</td><td>0.028</td><td>0.103</td><td>0.006</td><td>0.101</td><td>0.005</td><td>0.121</td><td>0.009</td></tr>\n",
       "\t<tr><th scope=row>Total Fertility with Age at First Birth</th><td>     </td><td>     </td><td>0.091</td><td>0.006</td><td>0.083</td><td>0.004</td><td>0.088</td><td>0.008</td></tr>\n",
       "</tbody>\n",
       "</table>\n"
      ],
      "text/latex": [
       "A xtable: 2 × 8\n",
       "\\begin{tabular}{r|llllllll}\n",
       "  & Benchmark &   & Random Forest &   & LASSO &   & Regression Tree &  \\\\\n",
       "  & <chr> & <chr> & <chr> & <chr> & <chr> & <chr> & <chr> & <chr>\\\\\n",
       "\\hline\n",
       "\tTotal Fertility & 0.101 & 0.028 & 0.103 & 0.006 & 0.101 & 0.005 & 0.121 & 0.009\\\\\n",
       "\tTotal Fertility with Age at First Birth &       &       & 0.091 & 0.006 & 0.083 & 0.004 & 0.088 & 0.008\\\\\n",
       "\\end{tabular}\n"
      ],
      "text/markdown": [
       "\n",
       "A xtable: 2 × 8\n",
       "\n",
       "| <!--/--> | Benchmark &lt;chr&gt; | <!----> &lt;chr&gt; | Random Forest &lt;chr&gt; | <!----> &lt;chr&gt; | LASSO &lt;chr&gt; | <!----> &lt;chr&gt; | Regression Tree &lt;chr&gt; | <!----> &lt;chr&gt; |\n",
       "|---|---|---|---|---|---|---|---|---|\n",
       "| Total Fertility | 0.101 | 0.028 | 0.103 | 0.006 | 0.101 | 0.005 | 0.121 | 0.009 |\n",
       "| Total Fertility with Age at First Birth | <!----> | <!----> | 0.091 | 0.006 | 0.083 | 0.004 | 0.088 | 0.008 |\n",
       "\n"
      ],
      "text/plain": [
       "                                        Benchmark       Random Forest      \n",
       "Total Fertility                         0.101     0.028 0.103         0.006\n",
       "Total Fertility with Age at First Birth                 0.091         0.006\n",
       "                                        LASSO       Regression Tree      \n",
       "Total Fertility                         0.101 0.005 0.121           0.009\n",
       "Total Fertility with Age at First Birth 0.083 0.004 0.088           0.008"
      ]
     },
     "metadata": {},
     "output_type": "display_data"
    }
   ],
   "source": [
    "blau <- matrix(c(0.1014,0.0278),byrow = TRUE,1,2)\n",
    "#blau <- matrix(c(-0.3701,0.1444),byrow = TRUE,1,2)\n",
    "results_1 <- cbind(round(cbind(blau,params_rf_uc,params_lasso_uc,params_rt_uc),3))\n",
    "rownames(results_1) <- c(\"Total Fertility\")\n",
    "\n",
    "results_2 <- cbind(\" \", \" \", round(cbind(params_rf_c,params_lasso_c,params_rt_c),3))\n",
    "rownames(results_2) <- c(\"Total Fertility with Age at First Birth\")\n",
    "\n",
    "results <- rbind(results_1,results_2)\n",
    "\n",
    "colnames(results)[1:8] <- c(\"Benchmark\", \" \", \"Random Forest\", \" \", \"LASSO\", \" \", \"Regression Tree\", \" \")\n",
    "\n",
    "xtable(results) # results copied to latex"
   ]
  }
 ],
 "metadata": {
  "kernelspec": {
   "display_name": "R",
   "language": "R",
   "name": "ir"
  },
  "language_info": {
   "codemirror_mode": "r",
   "file_extension": ".r",
   "mimetype": "text/x-r-source",
   "name": "R",
   "pygments_lexer": "r",
   "version": "4.1.0"
  }
 },
 "nbformat": 4,
 "nbformat_minor": 4
}
