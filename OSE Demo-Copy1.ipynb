{
 "cells": [
  {
   "cell_type": "code",
   "execution_count": 1,
   "metadata": {
    "ExecuteTime": {
     "end_time": "2021-11-19T07:00:23.118705Z",
     "start_time": "2021-11-19T07:00:20.099521Z"
    }
   },
   "outputs": [],
   "source": [
    "import numpy as np\n",
    "import cvxpy as cvx\n",
    "import pandas as pd\n",
    "import scipy.optimize\n",
    "import statsmodels.api as sm\n",
    "import matplotlib.pyplot as plt\n",
    "import statsmodels.formula.api as smf\n",
    "\n"
   ]
  },
  {
   "cell_type": "markdown",
   "metadata": {},
   "source": [
    "### 1) "
   ]
  },
  {
   "cell_type": "code",
   "execution_count": null,
   "metadata": {},
   "outputs": [],
   "source": []
  },
  {
   "cell_type": "markdown",
   "metadata": {},
   "source": [
    "### 2) "
   ]
  },
  {
   "cell_type": "code",
   "execution_count": 38,
   "metadata": {
    "ExecuteTime": {
     "end_time": "2021-11-18T14:11:05.126508Z",
     "start_time": "2021-11-18T14:11:05.099971Z"
    }
   },
   "outputs": [],
   "source": []
  },
  {
   "cell_type": "markdown",
   "metadata": {},
   "source": [
    "#### Background "
   ]
  },
  {
   "cell_type": "markdown",
   "metadata": {},
   "source": [
    "### Pre-analysis Figures and Graphs"
   ]
  },
  {
   "cell_type": "code",
   "execution_count": 183,
   "metadata": {
    "ExecuteTime": {
     "end_time": "2021-11-19T06:47:54.917262Z",
     "start_time": "2021-11-19T06:47:54.564905Z"
    }
   },
   "outputs": [],
   "source": [
    "dtafile = 'dataset.dta'\n",
    "\n",
    "df = pd.read_stata(dtafile)\n",
    "df1 = df[df['year'] >= 1983]\n",
    "\n",
    "df2 = df1.groupby(['region', 'reg'])[['gdppercap', 'mafia', 'murd', 'ext', 'fire', 'kidnap', 'rob', 'smug',\n",
    "            'drug', 'theft', 'orgcrime']].mean()\n",
    "\n",
    "df2 = df2.reset_index()"
   ]
  },
  {
   "cell_type": "code",
   "execution_count": 172,
   "metadata": {
    "ExecuteTime": {
     "end_time": "2021-11-19T03:04:45.080056Z",
     "start_time": "2021-11-19T03:04:44.867999Z"
    }
   },
   "outputs": [
    {
     "data": {
      "image/png": "[encoded data removed]",
      "text/plain": [
       "<Figure size 576x360 with 1 Axes>"
      ]
     },
     "metadata": {
      "needs_background": "light"
     },
     "output_type": "display_data"
    }
   ],
   "source": [
    "# Figure 3\n",
    "df2.plot.scatter('mafia', 'murd', c=color, s=10, linewidth=3)\n",
    "plt.rcParams[\"figure.figsize\"] = (8,8)\n",
    "plt.show()"
   ]
  },
  {
   "cell_type": "markdown",
   "metadata": {},
   "source": [
    "### Data Preparation"
   ]
  },
  {
   "cell_type": "code",
   "execution_count": 174,
   "metadata": {
    "ExecuteTime": {
     "end_time": "2021-11-19T04:25:28.919030Z",
     "start_time": "2021-11-19T04:25:28.566758Z"
    }
   },
   "outputs": [],
   "source": [
    "dtafile = 'dataset.dta'\n",
    "data = pd.read_stata(dtafile)\n",
    "\n",
    "tr_unit = data[data.reg == 21]\n",
    "tr_unit = tr_unit[tr_unit.year <= 1960]\n",
    "y_tr = np.array(tr_unit.gdppercap).reshape(1, 10)\n",
    "\n",
    "ctr_units = data[(data.reg <= 14) | (data.reg ==20)]\n",
    "ctr_units = ctr_units[ctr_units.year <= 1960]\n",
    "y_ctr = np.array(ctr_units.gdppercap).reshape(15, 10)\n",
    "\n",
    "tr_unit_all = data[data.reg == 21]\n",
    "y_tr_all = np.array(tr_unit_all.gdppercap).reshape(1, 57)\n",
    "\n",
    "ctr_units_all = data[(data.reg <= 14) | (data.reg ==20)]\n",
    "y_ctr_all = np.array(ctr_units_all.gdppercap).reshape(15, 57)"
   ]
  },
  {
   "cell_type": "markdown",
   "metadata": {},
   "source": [
    "### Data Organization into Appropriate Format "
   ]
  },
  {
   "cell_type": "code",
   "execution_count": 113,
   "metadata": {
    "ExecuteTime": {
     "end_time": "2021-11-18T16:12:13.993574Z",
     "start_time": "2021-11-18T16:12:13.963315Z"
    }
   },
   "outputs": [],
   "source": [
    "X1 = data[data.reg == 21]\n",
    "X1 = X1[X1.year <= 1960]\n",
    "X1 = X1[['gdppercap', 'invrate', 'shvain', 'shvaag', 'shvams', 'shvanms', 'shskill', 'density']]\n",
    "X1 = X1.set_index(np.arange(len(X1)) // 10).mean(level=0)\n",
    "X1 = X1.values\n",
    "\n",
    "X0 = data[(data.reg <= 14) | (data.reg ==20)]\n",
    "X0 = X0[X0.year <= 1960]\n",
    "X0 = X0[['gdppercap', 'invrate', 'shvain', 'shvaag', 'shvams', 'shvanms', 'shskill', 'density']]\n",
    "X0 = X0.set_index(np.arange(len(X0)) // 10).mean(level=0)\n",
    "X0 = X0.values"
   ]
  }
 ],
 "metadata": {
  "kernelspec": {
   "display_name": "Python 3",
   "language": "python",
   "name": "python3"
  },
  "language_info": {
   "codemirror_mode": {
    "name": "ipython",
    "version": 3
   },
   "file_extension": ".py",
   "mimetype": "text/x-python",
   "name": "python",
   "nbconvert_exporter": "python",
   "pygments_lexer": "ipython3",
   "version": "3.8.5"
  }
 },
 "nbformat": 4,
 "nbformat_minor": 4
}
